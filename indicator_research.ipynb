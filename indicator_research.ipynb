{
 "cells": [
  {
   "cell_type": "markdown",
   "source": [
    "## time to do some cryptocurrency research\n",
    "### Poloniex:  \n",
    "https://poloniex.com/exchange#usdc_btc  \n",
    "https://docs.poloniex.com/#public-http-api-methods  \n",
    "https://github.com/Aula13/poloniex      -- python wrapper   \n",
    "\n",
    "### Coinbase:  \n",
    "https://www.coinbase.com/price/bitcoin  \n",
    "https://developers.coinbase.com/api/v2#introduction     \n",
    "https://developers.coinbase.com/docs/wallet/guides/price-data   \n",
    "https://github.com/coinbase/coinbase-python -- python wrapper   \n",
    "\n",
    "### Binance:   \n",
    "https://www.binance.com/en/trade/pro/BTC_USDT   \n",
    "https://github.com/binance-exchange/binance-official-api-docs/blob/master/rest-api.md#market-data-endpoints     \n",
    "https://github.com/sammchardy/python-binance    -- python wrapper   \n",
    "\n",
    "### Bitfinex\n",
    "https://www.bitfinex.com/"
   ],
   "metadata": {
    "collapsed": false
   }
  },
  {
   "cell_type": "code",
   "execution_count": 1,
   "metadata": {
    "collapsed": true,
    "pycharm": {
     "is_executing": false
    }
   },
   "outputs": [],
   "source": [
    "from poloniex import Poloniex\n",
    "from coinbase.wallet.client import Client\n",
    "from src.botindicators import BotIndicators\n",
    "from lib.poloniex import createTimeStamp\n",
    "import numpy as np\n",
    "import pandas as pd\n",
    "import pprint as pp\n",
    "import datetime\n",
    "import matplotlib.pyplot as plt\n",
    "from datetime import time, timedelta\n",
    "import os\n",
    "import time\n",
    "%matplotlib inline"
   ]
  },
  {
   "cell_type": "code",
   "execution_count": 17,
   "metadata": {
    "collapsed": true,
    "pycharm": {
     "name": "#%%\n",
     "is_executing": false
    }
   },
   "outputs": [],
   "source": [
    "# Make some sort of range grabbing method with this \n",
    "lookback_days = 27\n",
    "delta = datetime.timedelta(days=lookback_days)      # Use this as a lookback window\n",
    "\n",
    "ts_end = datetime.datetime.now() \n",
    "ts_start = ts_end - delta\n",
    "\n",
    "end_date = createTimeStamp(ts_end.strftime('%Y-%m-%d %H:%M:%S'))\n",
    "start_date = createTimeStamp(ts_start.strftime('%Y-%m-%d %H:%M:%S'))"
   ]
  },
  {
   "cell_type": "code",
   "execution_count": 35,
   "metadata": {
    "pycharm": {
     "name": "#%%\n"
    }
   },
   "outputs": [],
   "source": [
    "bi = BotIndicators()\n",
    "pex = Poloniex()\n",
    "chart = pex.returnChartData(\"USDT_BTC\", 300, start_date, end_date)"
   ]
  },
  {
   "cell_type": "code",
   "execution_count": 36,
   "metadata": {
    "pycharm": {
     "name": "#%%\n"
    }
   },
   "outputs": [],
   "source": [
    "open                = [c[\"open\"] for c in chart]\n",
    "close               = [c[\"close\"] for c in chart]\n",
    "high                = [c[\"high\"] for c in chart]\n",
    "low                 = [c[\"low\"] for c in chart]\n",
    "volume              = [c[\"volume\"] for c in chart]\n",
    "quoteVolume         = [c[\"quoteVolume\"] for c in chart]\n",
    "weightedAverages    = [c[\"weightedAverage\"] for c in chart]"
   ]
  },
  {
   "cell_type": "code",
   "execution_count": 12,
   "metadata": {
    "pycharm": {
     "name": "#%%\n",
     "is_executing": false
    }
   },
   "outputs": [
    {
     "ename": "NameError",
     "traceback": [
      "\u001b[0;31m---------------------------------------------------------------------------\u001b[0m",
      "\u001b[0;31mNameError\u001b[0m                                 Traceback (most recent call last)",
      "\u001b[0;32m<ipython-input-12-d7c0dbff3843>\u001b[0m in \u001b[0;36m<module>\u001b[0;34m()\u001b[0m\n\u001b[1;32m      1\u001b[0m \u001b[0;34m\u001b[0m\u001b[0m\n\u001b[0;32m----> 2\u001b[0;31m \u001b[0mplt\u001b[0m\u001b[0;34m.\u001b[0m\u001b[0mplot\u001b[0m\u001b[0;34m(\u001b[0m\u001b[0mweightedAverages\u001b[0m\u001b[0;34m)\u001b[0m\u001b[0;34m\u001b[0m\u001b[0m\n\u001b[0m\u001b[1;32m      3\u001b[0m \u001b[0;31m# plt.plot(volume)\u001b[0m\u001b[0;34m\u001b[0m\u001b[0;34m\u001b[0m\u001b[0m\n\u001b[1;32m      4\u001b[0m \u001b[0;34m\u001b[0m\u001b[0m\n\u001b[1;32m      5\u001b[0m \u001b[0mend\u001b[0m \u001b[0;34m=\u001b[0m \u001b[0mtime\u001b[0m\u001b[0;34m.\u001b[0m\u001b[0mtime\u001b[0m\u001b[0;34m(\u001b[0m\u001b[0;34m)\u001b[0m\u001b[0;34m\u001b[0m\u001b[0m\n",
      "\u001b[0;31mNameError\u001b[0m: name 'plt' is not defined"
     ],
     "evalue": "name 'plt' is not defined",
     "output_type": "error"
    }
   ],
   "source": [
    "plt.plot(weightedAverages)"
   ]
  },
  {
   "cell_type": "code",
   "execution_count": null,
   "outputs": [],
   "source": [
    "plt.plot(volume)"
   ],
   "metadata": {
    "collapsed": false,
    "pycharm": {
     "name": "#%%\n"
    }
   }
  },
  {
   "cell_type": "code",
   "execution_count": null,
   "outputs": [],
   "source": [
    "api_key = os.environ[\"COINBASE_API_KEY\"]\n",
    "api_secret = os.environ[\"COINBASE_API_SECRET\"] \n",
    "client = Client(api_key, api_secret)\n",
    "account = client.get_primary_account()\n",
    "\n",
    "currency_code = 'USD'  # can also use EUR, CAD, etc.\n",
    "\n",
    "# Make the request\n",
    "cprice = client.get_spot_price(currency=currency_code)\n",
    "cprice = cprice[\"amount\"]\n",
    "pprice = pex.returnTicker() \n",
    "pprice = pprice[\"USDT_BTC\"][\"last\"]"
   ],
   "metadata": {
    "collapsed": false,
    "pycharm": {
     "name": "#%%\n"
    }
   }
  },
  {
   "cell_type": "code",
   "execution_count": null,
   "outputs": [],
   "source": [
    "print(\"Prices (USDT_BTC):\\n\\nCoinbase:\\t\\t{}\\n\\nPoloniex:\\t\\t{}\\n\\nBinance:\\t\\t{}\\n\".format(cprice, pprice, None))"
   ],
   "metadata": {
    "collapsed": false,
    "pycharm": {
     "name": "#%%\n"
    }
   }
  },
  {
   "cell_type": "code",
   "execution_count": null,
   "outputs": [],
   "source": [
    "# historic prices from Poloniex\n",
    "def pex_getHistoricPrices(conn, pair, start, end):\n",
    "    prices = []\n",
    "    dayChart = conn.api_query(\"returnChartData\",\n",
    "                                   {\"currencyPair\": pair,\n",
    "                                    \"start\": start,\n",
    "                                    \"end\": end,\n",
    "                                    \"period\": 300})\n",
    "    for dc in range(len(dayChart)):\n",
    "        prices.append(dayChart[dc][\"weightedAverage\"])\n",
    "    return prices[::-1]"
   ],
   "metadata": {
    "collapsed": false,
    "pycharm": {
     "name": "#%%\n"
    }
   }
  },
  {
   "cell_type": "code",
   "execution_count": null,
   "outputs": [],
   "source": [
    "macdPrices = pex_getHistoricPrices(pex, \"USDT_BTC\", start_date, end_date) \n",
    "macdPrices"
   ],
   "metadata": {
    "collapsed": false,
    "pycharm": {
     "name": "#%%\n"
    }
   }
  }
 ],
 "metadata": {
  "kernelspec": {
   "display_name": "Python 3",
   "language": "python",
   "name": "python3"
  },
  "language_info": {
   "codemirror_mode": {
    "name": "ipython",
    "version": 3
   },
   "file_extension": ".py",
   "mimetype": "text/x-python",
   "name": "python",
   "nbconvert_exporter": "python",
   "pygments_lexer": "ipython3",
   "version": "3.5.4"
  },
  "pycharm": {
   "stem_cell": {
    "cell_type": "raw",
    "source": [],
    "metadata": {
     "collapsed": false
    }
   }
  }
 },
 "nbformat": 4,
 "nbformat_minor": 1
}